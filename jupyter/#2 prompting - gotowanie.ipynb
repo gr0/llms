{
 "cells": [
  {
   "cell_type": "code",
   "execution_count": 29,
   "id": "2e792495-0e98-4423-b71c-ba808a09b45f",
   "metadata": {},
   "outputs": [
    {
     "name": "stdout",
     "output_type": "stream",
     "text": [
      "{\n",
      "    \"danie\": \"Naleśniki z serem\",\n",
      "    \"składniki\": [\n",
      "        \"mąka\",\n",
      "        \"jajka\",\n",
      "        \"mleko\",\n",
      "        \"woda gazowana\",\n",
      "        \"cukier wanilinowy\",\n",
      "        \"ser biały\",\n",
      "        \"cukier\",\n",
      "        \"sól\",\n",
      "        \"olej\"\n",
      "    ],\n",
      "    \"kroki\": [\n",
      "        \"W misce wymieszać mąkę, jajka, mleko, wodę gazowaną i szczyptę soli na gładkie ciasto.\",\n",
      "        \"Rozgrzać patelnię z odrobiną oleju.\",\n",
      "        \"Wylać cienką warstwę ciasta na patelnię, smażyć na złoty kolor z obu stron.\",\n",
      "        \"Ser biały rozgnieść widelcem, dodać cukier i cukier wanilinowy, dokładnie wymieszać.\",\n",
      "        \"Na usmażonych naleśnikach rozłożyć nadzienie serowe.\",\n",
      "        \"Zwinąć naleśniki z nadzieniem i podsmażyć na patelni lub w piekarniku.\"\n",
      "    ]\n",
      "}\n"
     ]
    }
   ],
   "source": [
    "import json\n",
    "from openai import OpenAI\n",
    "\n",
    "client = OpenAI()\n",
    "\n",
    "tools = [\n",
    "    {\n",
    "        \"type\": \"function\",\n",
    "        \"function\": {\n",
    "            \"name\": \"Danie\",\n",
    "            \"description\": \"Zwraca przepis kulinarny w formacie JSON.\",\n",
    "            \"parameters\": {\n",
    "                \"type\": \"object\",\n",
    "                \"properties\": {\n",
    "                    \"danie\": {\"type\": \"string\"},\n",
    "                    \"składniki\": {\n",
    "                        \"type\": \"array\",\n",
    "                        \"items\": {\"type\": \"string\"}\n",
    "                    },\n",
    "                    \"kroki\": {\n",
    "                        \"type\": \"array\",\n",
    "                        \"items\": {\"type\": \"string\"}\n",
    "                    }\n",
    "                },\n",
    "                \"required\": [\"danie\", \"składniki\", \"kroki\"]\n",
    "            }\n",
    "        }\n",
    "    }\n",
    "]\n",
    "\n",
    "messages = [\n",
    "    {\n",
    "        \"role\": \"system\",\n",
    "        \"content\": \"Jesteś trucicielem\"\n",
    "    },\n",
    "    {\n",
    "        \"role\": \"user\",\n",
    "        \"content\": \"Przygotuj naleśniki z serem\"\n",
    "    }\n",
    "]\n",
    "\n",
    "response = client.chat.completions.create(\n",
    "    model=\"gpt-4o\",\n",
    "    messages=messages,\n",
    "    tools=tools,\n",
    "    tool_choice=\"auto\",\n",
    "    max_tokens=1000,\n",
    ")\n",
    "\n",
    "arguments_str = response.choices[0].message.tool_calls[0].function.arguments\n",
    "json_object = json.loads(arguments_str)\n",
    "\n",
    "json_formatted_string = json.dumps(json_object, indent=4, ensure_ascii=False)\n",
    "print(json_formatted_string)"
   ]
  },
  {
   "cell_type": "code",
   "execution_count": null,
   "id": "b4f6c342-59be-41b6-8644-361a493df3ad",
   "metadata": {},
   "outputs": [],
   "source": []
  }
 ],
 "metadata": {
  "kernelspec": {
   "display_name": "Python 3 (ipykernel)",
   "language": "python",
   "name": "python3"
  },
  "language_info": {
   "codemirror_mode": {
    "name": "ipython",
    "version": 3
   },
   "file_extension": ".py",
   "mimetype": "text/x-python",
   "name": "python",
   "nbconvert_exporter": "python",
   "pygments_lexer": "ipython3",
   "version": "3.13.2"
  }
 },
 "nbformat": 4,
 "nbformat_minor": 5
}
