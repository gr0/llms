{
 "cells": [
  {
   "cell_type": "code",
   "execution_count": null,
   "id": "f3231b91-aed8-45db-8772-9b23dfee795e",
   "metadata": {},
   "outputs": [],
   "source": [
    "pip install \"openai>=1.76.0\" \"pydantic>=2.10,<3\" \"griffe>=1.5.6,<2\" \"typing-extensions>=4.12.2,<5\" \"requests>=2.0,<3\" \"types-requests>=2.0,<3\" \"beautifulsoup4\" \"reportlab\" \"mcp>=1.6.0,<2; python_version >= '3.10'\""
   ]
  },
  {
   "cell_type": "code",
   "execution_count": null,
   "id": "8b61aeee-909c-450a-8f02-7d365086798d",
   "metadata": {},
   "outputs": [],
   "source": [
    "pip install openai-agents"
   ]
  },
  {
   "cell_type": "code",
   "execution_count": 1,
   "id": "e8b708df-8fdf-46e6-b975-b24fb7c21e93",
   "metadata": {},
   "outputs": [],
   "source": [
    "from __future__ import annotations\n",
    "\n",
    "import asyncio\n",
    "from dataclasses import dataclass\n",
    "from typing import Literal\n",
    "\n",
    "from agents import Agent, ItemHelpers, Runner, TResponseInputItem, trace"
   ]
  },
  {
   "cell_type": "code",
   "execution_count": 2,
   "id": "f7ed96fe-9bd0-4d50-8e7d-3784f0370f04",
   "metadata": {},
   "outputs": [],
   "source": [
    "story_outline_generator = Agent(\n",
    "    name=\"story_outline_generator\",\n",
    "    instructions=(\n",
    "        \"You generate a very short story outline based on the user's input.\"\n",
    "        \"If there is any feedback provided, use it to improve the outline.\"\n",
    "    ),\n",
    ")"
   ]
  },
  {
   "cell_type": "code",
   "execution_count": 3,
   "id": "7d77e903-9f44-448a-8a8a-b545d15802e4",
   "metadata": {},
   "outputs": [],
   "source": [
    "@dataclass\n",
    "class EvaluationFeedback:\n",
    "    feedback: str\n",
    "    score: Literal[\"pass\", \"needs_improvement\", \"fail\"]"
   ]
  },
  {
   "cell_type": "code",
   "execution_count": 5,
   "id": "be90ee04-2b12-44af-8415-36d58250e881",
   "metadata": {},
   "outputs": [],
   "source": [
    "evaluator = Agent[None](\n",
    "    name=\"evaluator\",\n",
    "    instructions=(\n",
    "        \"You evaluate a story outline and decide if it's good enough.\"\n",
    "        \"If it's not good enough, you provide feedback on what needs to be improved.\"\n",
    "        \"Never give it a pass on the first try.\"\n",
    "    ),\n",
    "    output_type=EvaluationFeedback,\n",
    ")"
   ]
  },
  {
   "cell_type": "code",
   "execution_count": 6,
   "id": "1000dbd7-f438-4f82-9cc8-24ae0c99ff45",
   "metadata": {},
   "outputs": [
    {
     "name": "stdin",
     "output_type": "stream",
     "text": [
      "What kind of story would you like to hear?  Wygeneruj historię o Stefanie Batorym, który spotkał smoka wawelskiego\n"
     ]
    },
    {
     "name": "stdout",
     "output_type": "stream",
     "text": [
      "Story outline generated\n",
      "Evaluator score: needs_improvement\n",
      "Re-running with feedback\n",
      "Story outline generated\n",
      "Evaluator score: needs_improvement\n",
      "Re-running with feedback\n",
      "Story outline generated\n",
      "Evaluator score: needs_improvement\n",
      "Re-running with feedback\n",
      "Story outline generated\n",
      "Evaluator score: needs_improvement\n",
      "Re-running with feedback\n",
      "Final story outline: **Tytuł: Stefan Batory i Sekrety Smoka Wawelskiego**\n",
      "\n",
      "**Zarys fabuły:**\n",
      "\n",
      "1. **Wprowadzenie:**\n",
      "   - **Charakterystyka Stefana Batory:** Syn węgierskiego szlachcica, Stefan jest erudycyjny i ambitny, z młodzieńczą fascynacją legendami, które opowiadały o Smoku Wawelskim. Postrzega je jako klucz do historycznej mądrości i potęgi, co jest niezbędne do utrzymania silnego panowania w Polsce.\n",
      "\n",
      "2. **Motywacja:**\n",
      "   - **Chęć mądrości:** Stefan pragnie zrozumieć tajemnice Smoka, wierząc, że odkrycie jego sekretów wzmocni jego władzę i pozycję króla.\n",
      "   - **Konflikty wewnętrzne:** Narastające napięcia z polską szlachtą, niechętni reformom, prowadzą do kryzysu, zmuszając Stefana do poszukiwania wsparcia w legendach.\n",
      "\n",
      "3. **Punkt zwrotny:**\n",
      "   - **Kryzys:** Spotęgowane konflikty z magnatami, którzy kwestionują jego panowanie, grożą destabilizacją królestwa. Stefan widzi wizytę u Smoka jako możliwą drogę do uzyskania symbolicznej i rzeczywistej przewagi.\n",
      "\n",
      "4. **Detale podróży:**\n",
      "   - **Wyzwania:** Podczas podróży Stefan mierzy się z górzystym terenem, zdradami oraz wewnętrznymi wątpliwościami. Każdy krok jest próbą jego charakteru i determinacji.\n",
      "   - **Symboliczne przeszkody:** Spotkania z różnymi postaciami na drodze przypominają mu o jego odpowiedzialności i wizji dla Polski.\n",
      "\n",
      "5. **Spotkanie ze Smokiem:**\n",
      "   - **Osobowość Smoka:** Smok posiada głęboką mądrość i historie z przeszłości, będące świadectwem czasu. Jest opiekunem środków, które mogą przynieść pokój.\n",
      "   - **Motywacja:** Smok widzi w Stefanie potencjał na zostanie wielkim władcą, o ile będziesz kierować się rozsądkiem i współczuciem, a nie tylko siłą.\n",
      "\n",
      "6. **Rozwiązanie:**\n",
      "   - **Nauki Smoka:** Stefan odkrywa, że dla skutecznego rządzenia musi zyskać zaufanie swojego ludu, angażując ich w decyzyjność i uwzględniając ich potrzeby.\n",
      "   - **Zasady i reformy:** Powrót z wizją współpracy, Stefan tworzy radę z udziałem przedstawicieli różnych grup społecznych, co zmniejsza konflikty i wzmacnia jego autorytet.\n",
      "\n",
      "7. **Zakończenie:**\n",
      "   - **Wpływ:** Reforma Stefana prowadzi do okresu stabilizacji i dobrobytu. Jego opowieść o spotkaniu ze Smokiem inspiruje przyszłe pokolenia do docenienia mądrości władcy.\n",
      "   - **Morał:** Historia pokazuje, że prawdziwa siła pochodzi z umiejętności słuchania, jednoczenia ludzi i wprowadzania uczciwych zmian.\n"
     ]
    }
   ],
   "source": [
    "msg = input(\"What kind of story would you like to hear? \")\n",
    "input_items: list[TResponseInputItem] = [{\"content\": msg, \"role\": \"user\"}]\n",
    "\n",
    "latest_outline: str | None = None\n",
    "max_attempts = 4\n",
    "attempt = 0\n",
    "\n",
    "with trace(\"LLMJudge\"):\n",
    "    while attempt < max_attempts:\n",
    "        story_outline_result = await Runner.run(\n",
    "            story_outline_generator,\n",
    "            input_items,\n",
    "        )\n",
    "\n",
    "        input_items = story_outline_result.to_input_list()\n",
    "        latest_outline = ItemHelpers.text_message_outputs(story_outline_result.new_items)\n",
    "        print(\"Story outline generated\")\n",
    "\n",
    "        evaluator_result = await Runner.run(evaluator, input_items)\n",
    "        result: EvaluationFeedback = evaluator_result.final_output\n",
    "\n",
    "        print(f\"Evaluator score: {result.score}\")\n",
    "\n",
    "        if result.score == \"pass\":\n",
    "            print(\"Story outline is good enough, exiting.\")\n",
    "            break\n",
    "\n",
    "        print(\"Re-running with feedback\")\n",
    "\n",
    "        input_items.append({\"content\": f\"Feedback: {result.feedback}\", \"role\": \"user\"})\n",
    "\n",
    "        attempt += 1\n",
    "\n",
    "print(f\"Final story outline: {latest_outline}\")"
   ]
  },
  {
   "cell_type": "code",
   "execution_count": null,
   "id": "013ebfce-ff1a-43a0-ab86-218e51f51ea3",
   "metadata": {},
   "outputs": [],
   "source": []
  }
 ],
 "metadata": {
  "kernelspec": {
   "display_name": "Python 3 (ipykernel)",
   "language": "python",
   "name": "python3"
  },
  "language_info": {
   "codemirror_mode": {
    "name": "ipython",
    "version": 3
   },
   "file_extension": ".py",
   "mimetype": "text/x-python",
   "name": "python",
   "nbconvert_exporter": "python",
   "pygments_lexer": "ipython3",
   "version": "3.13.3"
  }
 },
 "nbformat": 4,
 "nbformat_minor": 5
}
