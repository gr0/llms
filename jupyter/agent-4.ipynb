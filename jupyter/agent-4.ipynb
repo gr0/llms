{
 "cells": [
  {
   "cell_type": "code",
   "execution_count": null,
   "id": "f3231b91-aed8-45db-8772-9b23dfee795e",
   "metadata": {},
   "outputs": [],
   "source": [
    "pip install \"openai>=1.76.0\" \"pydantic>=2.10,<3\" \"griffe>=1.5.6,<2\" \"typing-extensions>=4.12.2,<5\" \"requests>=2.0,<3\" \"types-requests>=2.0,<3\" \"beautifulsoup4\" \"reportlab\" \"mcp>=1.6.0,<2; python_version >= '3.10'\""
   ]
  },
  {
   "cell_type": "code",
   "execution_count": null,
   "id": "8b61aeee-909c-450a-8f02-7d365086798d",
   "metadata": {},
   "outputs": [],
   "source": [
    "pip install openai-agents"
   ]
  },
  {
   "cell_type": "code",
   "execution_count": 2,
   "id": "79688aaa-699c-46a1-8dba-ae53c3c9b66a",
   "metadata": {},
   "outputs": [],
   "source": [
    "from __future__ import annotations\n",
    "\n",
    "import asyncio\n",
    "\n",
    "from pydantic import BaseModel\n",
    "\n",
    "from agents import (\n",
    "    Agent,\n",
    "    GuardrailFunctionOutput,\n",
    "    InputGuardrailTripwireTriggered,\n",
    "    RunContextWrapper,\n",
    "    Runner,\n",
    "    TResponseInputItem,\n",
    "    input_guardrail,\n",
    ")"
   ]
  },
  {
   "cell_type": "code",
   "execution_count": 3,
   "id": "8c650d03-293d-43a4-885d-d33af9cd45e0",
   "metadata": {},
   "outputs": [],
   "source": [
    "class MathHomeworkOutput(BaseModel):\n",
    "    reasoning: str\n",
    "    is_math_homework: bool\n",
    "\n",
    "guardrail_agent = Agent(\n",
    "    name=\"Guardrail check\",\n",
    "    instructions=\"Check if the user is asking you to do their math homework.\",\n",
    "    output_type=MathHomeworkOutput,\n",
    ")"
   ]
  },
  {
   "cell_type": "code",
   "execution_count": 4,
   "id": "0eb37ed5-792c-4815-9023-6cf58994b43e",
   "metadata": {},
   "outputs": [],
   "source": [
    "@input_guardrail\n",
    "async def math_guardrail(context: RunContextWrapper[None], agent: Agent, input: str | list[TResponseInputItem]) -> GuardrailFunctionOutput:\n",
    "    \"\"\"This is an input guardrail function, which happens to call an agent to check if the input\n",
    "    is a math homework question.\n",
    "    \"\"\"\n",
    "    result = await Runner.run(guardrail_agent, input, context=context.context)\n",
    "    final_output = result.final_output_as(MathHomeworkOutput)\n",
    "\n",
    "    return GuardrailFunctionOutput(\n",
    "        output_info=final_output,\n",
    "        tripwire_triggered=final_output.is_math_homework,\n",
    "    )"
   ]
  },
  {
   "cell_type": "code",
   "execution_count": null,
   "id": "5c2bef24-bfc8-40cc-bf14-609b83725842",
   "metadata": {},
   "outputs": [
    {
     "name": "stdin",
     "output_type": "stream",
     "text": [
      "Enter a message:  Who is the president of Poland?\n"
     ]
    },
    {
     "name": "stdout",
     "output_type": "stream",
     "text": [
      "The current president of Poland is Andrzej Duda.\n"
     ]
    },
    {
     "name": "stdin",
     "output_type": "stream",
     "text": [
      "Enter a message:  Solve this: 2x + 10 = 12\n"
     ]
    },
    {
     "name": "stdout",
     "output_type": "stream",
     "text": [
      "Sorry, I can't help you with your math homework.\n"
     ]
    },
    {
     "name": "stdin",
     "output_type": "stream",
     "text": [
      "Enter a message:  Ile dni rządził król Stefan Batory?\n"
     ]
    },
    {
     "name": "stdout",
     "output_type": "stream",
     "text": [
      "Król Stefan Batory rządził Polską od 1 maja 1576 roku do 12 grudnia 1586 roku, co daje łącznie 3850 dni.\n"
     ]
    },
    {
     "name": "stdin",
     "output_type": "stream",
     "text": [
      "Enter a message:  Podaj różnicę pomiędzy datą śmierci, a datą urodzin Stefana Batorego\n"
     ]
    },
    {
     "name": "stdout",
     "output_type": "stream",
     "text": [
      "Sorry, I can't help you with your math homework.\n"
     ]
    }
   ],
   "source": [
    "agent = Agent(\n",
    "    name=\"Customer support agent\",\n",
    "    instructions=\"You are a customer support agent. You help customers with their questions.\",\n",
    "    input_guardrails=[math_guardrail],\n",
    ")\n",
    "\n",
    "input_data: list[TResponseInputItem] = []\n",
    "\n",
    "while True:\n",
    "    user_input = input(\"Enter a message: \")\n",
    "    input_data.append(\n",
    "        {\n",
    "            \"role\": \"user\",\n",
    "            \"content\": user_input,\n",
    "        }\n",
    "    )\n",
    "\n",
    "    try:\n",
    "        result = await Runner.run(agent, input_data)\n",
    "        print(result.final_output)\n",
    "        input_data = result.to_input_list()\n",
    "    except InputGuardrailTripwireTriggered:\n",
    "        message = \"Sorry, I can't help you with your math homework.\"\n",
    "        print(message)\n",
    "        input_data.append(\n",
    "            {\n",
    "                \"role\": \"assistant\",\n",
    "                \"content\": message,\n",
    "            }\n",
    "        )"
   ]
  },
  {
   "cell_type": "code",
   "execution_count": null,
   "id": "8a9393a4-491d-4793-9e0c-434256a9145a",
   "metadata": {},
   "outputs": [],
   "source": []
  }
 ],
 "metadata": {
  "kernelspec": {
   "display_name": "Python 3 (ipykernel)",
   "language": "python",
   "name": "python3"
  },
  "language_info": {
   "codemirror_mode": {
    "name": "ipython",
    "version": 3
   },
   "file_extension": ".py",
   "mimetype": "text/x-python",
   "name": "python",
   "nbconvert_exporter": "python",
   "pygments_lexer": "ipython3",
   "version": "3.13.3"
  }
 },
 "nbformat": 4,
 "nbformat_minor": 5
}
