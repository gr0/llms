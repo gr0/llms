{
 "cells": [
  {
   "cell_type": "code",
   "execution_count": null,
   "id": "2e792495-0e98-4423-b71c-ba808a09b45f",
   "metadata": {},
   "outputs": [],
   "source": [
    "pip install openai"
   ]
  },
  {
   "cell_type": "code",
   "execution_count": 4,
   "id": "f5dc9f3f-1940-4839-9ab8-6e46a4680b64",
   "metadata": {},
   "outputs": [
    {
     "name": "stdout",
     "output_type": "stream",
     "text": [
      "Smok Wawelski według legendy zamieszkiwał w jaskini u stóp Wawelu w Krakowie, nad brzegiem Wisły. Dziś ta jaskinia, znana jako Smocza Jama, jest atrakcją turystyczną dostępną dla zwiedzających. Niedaleko wejścia do jaskini znajduje się także rzeźba Smoka Wawelskiego, która co pewien czas zionie ogniem, ku uciesze mieszkańców i turystów.\n"
     ]
    }
   ],
   "source": [
    "from openai import OpenAI\n",
    "client = OpenAI()\n",
    "\n",
    "completion = client.chat.completions.create(\n",
    "    model=\"gpt-4o\",\n",
    "    messages=[\n",
    "        {\n",
    "            \"role\": \"user\",\n",
    "            \"content\": \"Gdzie mieszka Smok wawelski?\"\n",
    "        }\n",
    "    ]\n",
    ")\n",
    "\n",
    "print(completion.choices[0].message.content)"
   ]
  },
  {
   "cell_type": "code",
   "execution_count": 5,
   "id": "e95a01b9-0e9e-4a74-b6bf-919781650239",
   "metadata": {},
   "outputs": [
    {
     "name": "stdout",
     "output_type": "stream",
     "text": [
      "Smok wawelski mieszka w Smoczej Jamie pod Wawelem w Krakowie. Jest to miejsce legendy, według której smok terroryzował mieszkańców, dopóki nie został pokonany przez sprytnego szewczyka Dratewkę. Smocza Jama jest popularną atrakcją turystyczną i można ją zwiedzać, będąc w Krakowie.\n",
      "==========\n",
      "Smok Wawelski, według legendy, mieszkał w jaskini pod Wawelem, w Krakowie. Jaskinia ta, znana jako Smocza Jama, znajduje się nad brzegiem Wisły, na Wzgórzu Wawelskim. Jest popularnym miejscem turystycznym i częścią krakowskich atrakcji.\n",
      "==========\n",
      "Smok wawelski mieszkał według legendy w jaskini pod Wawelem, czyli w skalistym wzgórzu w centrum Krakowa, nad brzegiem Wisły. Dziś Smocza Jama, bo tak nazywa się ta jaskinia, jest jedną z atrakcji turystycznych Krakowa i można ją zwiedzać. Przed wejściem do jaskini stoi pomnik smoka, który co jakiś czas zionie ogniem, co jest dodatkową atrakcją dla odwiedzających.\n",
      "==========\n",
      "Smok Wawelski mieszkał według legendy w jaskini u podnóża Wawelu, czyli wzgórza w Krakowie, na którym znajduje się Zamek Królewski na Wawelu. Obecnie jaskinia, znana jako Smocza Jama, jest atrakcją turystyczną, a przed jej wejściem stoi rzeźba Smoka Wawelskiego, która co pewien czas zionie ogniem.\n",
      "==========\n",
      "Smok wawelski mieszka w legendarnej Smoczej Jamie, która znajduje się u podnóża Wzgórza Wawelskiego w Krakowie. Jest to jedna z najbardziej znanych legend związanych z tym miastem, a Smocza Jama jest atrakcją turystyczną, którą można zwiedzać.\n",
      "==========\n"
     ]
    }
   ],
   "source": [
    "from openai import OpenAI\n",
    "client = OpenAI()\n",
    "\n",
    "response = client.chat.completions.create(\n",
    "    model=\"gpt-4o\",\n",
    "    messages=[\n",
    "        {\n",
    "            \"role\": \"user\",\n",
    "            \"content\": \"Gdzie mieszka Smok wawelski?\"\n",
    "        }\n",
    "    ],\n",
    "    n=5,\n",
    ")\n",
    "\n",
    "for choice in response.choices:\n",
    "    print(choice.message.content)\n",
    "    print(\"=\" * 10)"
   ]
  },
  {
   "cell_type": "code",
   "execution_count": 6,
   "id": "54938e82-0f2c-4875-ad0f-6aed229f1a88",
   "metadata": {},
   "outputs": [
    {
     "name": "stdout",
     "output_type": "stream",
     "text": [
      "Smok Wawelski nie ma rzeczywistego adresu zamieszkania, ponieważ jest postacią z legendy krakowskiej. Smocza Jama, która jest często utożsamiana z jego siedzibą, znajduje się na Wzgórzu Wawelskim w Krakowie. Oto dane odpowiadające lokalizacji Smoczej Jamy:\n",
      "\n",
      "- Ulica: Wawel\n",
      "- Kod pocztowy: 31-001\n",
      "- Miejscowość: Kraków\n",
      "- Województwo: małopolskie\n",
      "==========\n",
      "- Ulica: bulwar Czerwieński\n",
      "- Kod pocztowy: 31-069\n",
      "- Miejscowość: Kraków\n",
      "- Województwo: małopolskie\n",
      "==========\n",
      "- Ulica: Bulwar Czerwieński\n",
      "- Kod pocztowy: 31-069\n",
      "- Miejscowość: Kraków\n",
      "- Województwo: małopolskie\n",
      "==========\n"
     ]
    }
   ],
   "source": [
    "from openai import OpenAI\n",
    "client = OpenAI()\n",
    "\n",
    "prompt = \"\"\"\n",
    "Gdzie mieszka Smok wawelski? Zwróć tylko następujace informacje:\n",
    "- Ulica\n",
    "- Kod pocztowy\n",
    "- Miejscowość\n",
    "- Województwo\n",
    "\"\"\"\n",
    "\n",
    "response = client.chat.completions.create(\n",
    "    model=\"gpt-4o\",\n",
    "    messages=[\n",
    "        {\n",
    "            \"role\": \"user\",\n",
    "            \"content\": prompt\n",
    "        }\n",
    "    ],\n",
    "    n=3,\n",
    ")\n",
    "\n",
    "for choice in response.choices:\n",
    "    print(choice.message.content)\n",
    "    print(\"=\" * 10)"
   ]
  },
  {
   "cell_type": "code",
   "execution_count": 7,
   "id": "226f6859-7efc-46d9-b5e9-0e688dbdba3e",
   "metadata": {},
   "outputs": [
    {
     "name": "stdout",
     "output_type": "stream",
     "text": [
      "```json\n",
      "{\n",
      "  \"Ulica\": \"Bulwar Czerwieński\",\n",
      "  \"Kod pocztowy\": \"31-069\",\n",
      "  \"Miejscowość\": \"Kraków\",\n",
      "  \"Województwo\": \"małopolskie\"\n",
      "}\n",
      "```\n",
      "==========\n",
      "```json\n",
      "{\n",
      "  \"Ulica\": \"Bulwar Czerwieński\",\n",
      "  \"Kod pocztowy\": \"31-069\",\n",
      "  \"Miejscowość\": \"Kraków\",\n",
      "  \"Województwo\": \"Małopolskie\"\n",
      "}\n",
      "```\n",
      "==========\n",
      "```json\n",
      "{\n",
      "  \"Ulica\": \"Bulwar Czerwieński\",\n",
      "  \"Kod pocztowy\": \"31-069\",\n",
      "  \"Miejscowość\": \"Kraków\",\n",
      "  \"Województwo\": \"małopolskie\"\n",
      "}\n",
      "```\n",
      "==========\n"
     ]
    }
   ],
   "source": [
    "from openai import OpenAI\n",
    "client = OpenAI()\n",
    "\n",
    "prompt = \"\"\"\n",
    "Gdzie mieszka Smok wawelski? Zwróć tylko następujace informacje:\n",
    "- Ulica\n",
    "- Kod pocztowy\n",
    "- Miejscowość\n",
    "- Województwo\n",
    "\n",
    "Wynik zwróć jako JSON\n",
    "\"\"\"\n",
    "\n",
    "response = client.chat.completions.create(\n",
    "    model=\"gpt-4o\",\n",
    "    messages=[\n",
    "        {\n",
    "            \"role\": \"user\",\n",
    "            \"content\": prompt\n",
    "        }\n",
    "    ],\n",
    "    n=3,\n",
    ")\n",
    "\n",
    "for choice in response.choices:\n",
    "    print(choice.message.content)\n",
    "    print(\"=\" * 10)"
   ]
  },
  {
   "cell_type": "code",
   "execution_count": null,
   "id": "d624443e-4306-45d8-90d8-30fab852be33",
   "metadata": {},
   "outputs": [],
   "source": []
  }
 ],
 "metadata": {
  "kernelspec": {
   "display_name": "Python 3 (ipykernel)",
   "language": "python",
   "name": "python3"
  },
  "language_info": {
   "codemirror_mode": {
    "name": "ipython",
    "version": 3
   },
   "file_extension": ".py",
   "mimetype": "text/x-python",
   "name": "python",
   "nbconvert_exporter": "python",
   "pygments_lexer": "ipython3",
   "version": "3.13.2"
  }
 },
 "nbformat": 4,
 "nbformat_minor": 5
}
