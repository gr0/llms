{
 "cells": [
  {
   "cell_type": "code",
   "execution_count": null,
   "id": "f3231b91-aed8-45db-8772-9b23dfee795e",
   "metadata": {},
   "outputs": [],
   "source": [
    "pip install \"openai>=1.76.0\" \"pydantic>=2.10,<3\" \"griffe>=1.5.6,<2\" \"typing-extensions>=4.12.2,<5\" \"requests>=2.0,<3\" \"types-requests>=2.0,<3\" \"beautifulsoup4\" \"reportlab\" \"mcp>=1.6.0,<2; python_version >= '3.10'\""
   ]
  },
  {
   "cell_type": "code",
   "execution_count": null,
   "id": "8b61aeee-909c-450a-8f02-7d365086798d",
   "metadata": {},
   "outputs": [],
   "source": [
    "pip install openai-agents"
   ]
  },
  {
   "cell_type": "code",
   "execution_count": null,
   "id": "666ae89c-bd54-476b-8730-e6cef0f5fe3b",
   "metadata": {},
   "outputs": [],
   "source": [
    "from agents import Agent, ItemHelpers, MessageOutputItem, Runner, trace\n",
    "import asyncio\n",
    "\n",
    "english_agent = Agent(\n",
    "    name=\"english_agent\",\n",
    "    instructions=\"You translate the user's message to English\",\n",
    "    handoff_description=\"A polish to english translator\",\n",
    ")\n",
    "\n",
    "german_agent = Agent(\n",
    "    name=\"german_agent\",\n",
    "    instructions=\"You translate the user's message to German\",\n",
    "    handoff_description=\"A polish to german translator\",\n",
    ")\n",
    "\n",
    "italian_agent = Agent(\n",
    "    name=\"italian_agent\",\n",
    "    instructions=\"You translate the user's message to Italian\",\n",
    "    handoff_description=\"A polish to italian translator\",\n",
    ")"
   ]
  },
  {
   "cell_type": "code",
   "execution_count": null,
   "id": "7b9ccc52-d81d-442e-a4b0-5b9082c86160",
   "metadata": {},
   "outputs": [],
   "source": [
    "orchestrator_agent = Agent(\n",
    "    name=\"orchestrator_agent\",\n",
    "    instructions=(\n",
    "        \"You are a translation agent. You use the tools given to you to translate.\"\n",
    "        \"If asked for multiple translations, you call the relevant tools in order.\"\n",
    "        \"You never translate on your own, you always use the provided tools.\"\n",
    "    ),\n",
    "    tools=[\n",
    "        english_agent.as_tool(\n",
    "            tool_name=\"translate_to_english\",\n",
    "            tool_description=\"Translate the user's message to English\",\n",
    "        ),\n",
    "        german_agent.as_tool(\n",
    "            tool_name=\"translate_to_german\",\n",
    "            tool_description=\"Translate the user's message to German\",\n",
    "        ),\n",
    "        italian_agent.as_tool(\n",
    "            tool_name=\"translate_to_italian\",\n",
    "            tool_description=\"Translate the user's message to Italian\",\n",
    "        ),\n",
    "    ],\n",
    ")"
   ]
  },
  {
   "cell_type": "code",
   "execution_count": null,
   "id": "58a50ada-8de7-41cc-aabc-b1844b09a755",
   "metadata": {},
   "outputs": [],
   "source": [
    "synthesizer_agent = Agent(\n",
    "    name=\"synthesizer_agent\",\n",
    "    instructions=\"You inspect translations, correct them if needed, and produce a final concatenated response.\",\n",
    ")"
   ]
  },
  {
   "cell_type": "code",
   "execution_count": 63,
   "id": "91fccd7e-75ff-4a99-8888-d03c6c2231ca",
   "metadata": {},
   "outputs": [
    {
     "name": "stdin",
     "output_type": "stream",
     "text": [
      "Co chciałbyś mieć przetłumaczone: Na niemiecki - dzisiaj jest piękny dzień na napalm\n"
     ]
    },
    {
     "name": "stdout",
     "output_type": "stream",
     "text": [
      "  - Translation step: \"dzisiaj jest piękny dzień na napalm\" translates to German as:\n",
      "\n",
      "\"Heute ist ein schöner Tag für Napalm.\"\n",
      "\n",
      "\n",
      "Final response:\n",
      "\"Dzisiaj jest piękny dzień na napalm\" translates to German as:\n",
      "\n",
      "\"Heute ist ein schöner Tag für Napalm.\"\n"
     ]
    }
   ],
   "source": [
    "msg = input(\"Co chciałbyś mieć przetłumaczone:\")\n",
    "\n",
    "with trace(\"Orchestrator evaluator\"):\n",
    "    orchestrator_result = await Runner.run(orchestrator_agent, msg)\n",
    "\n",
    "    for item in orchestrator_result.new_items:\n",
    "        if isinstance(item, MessageOutputItem):\n",
    "            text = ItemHelpers.text_message_output(item)\n",
    "            if text:\n",
    "                print(f\"  - Translation step: {text}\")\n",
    "\n",
    "    synthesizer_result = await Runner.run(\n",
    "        synthesizer_agent, orchestrator_result.to_input_list()\n",
    "    )\n",
    "\n",
    "print(f\"\\n\\nFinal response:\\n{synthesizer_result.final_output}\")"
   ]
  },
  {
   "cell_type": "code",
   "execution_count": null,
   "id": "79688aaa-699c-46a1-8dba-ae53c3c9b66a",
   "metadata": {},
   "outputs": [],
   "source": []
  },
  {
   "cell_type": "code",
   "execution_count": null,
   "id": "f1a6765d-6ca2-4654-9cca-c03aeb99a6af",
   "metadata": {},
   "outputs": [],
   "source": []
  }
 ],
 "metadata": {
  "kernelspec": {
   "display_name": "Python 3 (ipykernel)",
   "language": "python",
   "name": "python3"
  },
  "language_info": {
   "codemirror_mode": {
    "name": "ipython",
    "version": 3
   },
   "file_extension": ".py",
   "mimetype": "text/x-python",
   "name": "python",
   "nbconvert_exporter": "python",
   "pygments_lexer": "ipython3",
   "version": "3.13.3"
  }
 },
 "nbformat": 4,
 "nbformat_minor": 5
}
