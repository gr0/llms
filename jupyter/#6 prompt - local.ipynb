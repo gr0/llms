{
 "cells": [
  {
   "cell_type": "code",
   "execution_count": 4,
   "id": "69223890-e08f-4e2d-ba6e-4a634888513d",
   "metadata": {},
   "outputs": [
    {
     "name": "stdout",
     "output_type": "stream",
     "text": [
      "\n",
      "🧾 Dane z paszportu:\n",
      "{\n",
      "    \"passport_number\": \"A09\",\n",
      "    \"full_name\": \"Jan Kowalski\",\n",
      "    \"expiry_date\": \"2024-12-31\",\n",
      "    \"confidence\": 0.75\n",
      "}\n"
     ]
    }
   ],
   "source": [
    "import base64\n",
    "import json\n",
    "import requests\n",
    "from PIL import Image\n",
    "import io\n",
    "\n",
    "def display_image(image_path):\n",
    "    \"\"\"Optional: show image with PIL\"\"\"\n",
    "    image = Image.open(image_path)\n",
    "    image.show()\n",
    "\n",
    "def encode_image_to_base64(image_path):\n",
    "    with open(image_path, \"rb\") as f:\n",
    "        return base64.b64encode(f.read()).decode(\"utf-8\")\n",
    "\n",
    "def extract_passport_info_with_ollama(image_path):\n",
    "    display_image(image_path)\n",
    "    base64_image = encode_image_to_base64(image_path)\n",
    "\n",
    "    prompt = (\n",
    "        \"Analyze the following image of a Polish passport and return a JSON object with:\\n\"\n",
    "        \"- `passport_number`: string\\n\"\n",
    "        \"- `full_name`: string\\n\"\n",
    "        \"- `expiry_date`: string in YYYY-MM-DD format\\n\"\n",
    "        \"- `confidence`: number from 0 to 1 based on how sure you are\\n\\n\"\n",
    "        \"Return only the JSON.\\n\"\n",
    "        \"<image>\\n\"\n",
    "    )\n",
    "\n",
    "    response = requests.post(\n",
    "        \"http://localhost:11434/api/generate\",\n",
    "        json={\n",
    "            \"model\": \"llava\",\n",
    "            \"prompt\": prompt,\n",
    "            \"images\": [base64_image],\n",
    "            \"stream\": False\n",
    "        }\n",
    "    )\n",
    "\n",
    "    if response.status_code != 200:\n",
    "        raise Exception(f\"Ollama error: {response.text}\")\n",
    "\n",
    "    try:\n",
    "        content = response.json()[\"response\"]\n",
    "        json_str = content.strip().split(\"```json\")[-1].split(\"```\")[0] if \"```json\" in content else content\n",
    "        result = json.loads(json_str)\n",
    "    except Exception as e:\n",
    "        print(\"Failed to parse JSON:\", e)\n",
    "        print(\"Raw response:\", content)\n",
    "        return None\n",
    "\n",
    "    return result\n",
    "\n",
    "data = extract_passport_info_with_ollama(\"/Users/gro/Desktop/passport_test.jpg\")\n",
    "if data:\n",
    "    print(\"\\n🧾 Dane z paszportu:\")\n",
    "    print(json.dumps(data, indent=4, ensure_ascii=False))"
   ]
  },
  {
   "cell_type": "code",
   "execution_count": null,
   "id": "190c90ad-1ec7-4be9-8b1c-ad9fe4ef58e8",
   "metadata": {},
   "outputs": [],
   "source": []
  }
 ],
 "metadata": {
  "kernelspec": {
   "display_name": "Python 3 (ipykernel)",
   "language": "python",
   "name": "python3"
  },
  "language_info": {
   "codemirror_mode": {
    "name": "ipython",
    "version": 3
   },
   "file_extension": ".py",
   "mimetype": "text/x-python",
   "name": "python",
   "nbconvert_exporter": "python",
   "pygments_lexer": "ipython3",
   "version": "3.13.2"
  }
 },
 "nbformat": 4,
 "nbformat_minor": 5
}
