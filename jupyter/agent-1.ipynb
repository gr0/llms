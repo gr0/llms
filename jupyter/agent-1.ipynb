{
 "cells": [
  {
   "cell_type": "code",
   "execution_count": null,
   "id": "f3231b91-aed8-45db-8772-9b23dfee795e",
   "metadata": {},
   "outputs": [],
   "source": [
    "pip install \"openai>=1.76.0\" \"pydantic>=2.10,<3\" \"griffe>=1.5.6,<2\" \"typing-extensions>=4.12.2,<5\" \"requests>=2.0,<3\" \"types-requests>=2.0,<3\" \"beautifulsoup4\" \"reportlab\" \"mcp>=1.6.0,<2; python_version >= '3.10'\""
   ]
  },
  {
   "cell_type": "code",
   "execution_count": null,
   "id": "8b61aeee-909c-450a-8f02-7d365086798d",
   "metadata": {},
   "outputs": [],
   "source": [
    "pip install openai-agents"
   ]
  },
  {
   "cell_type": "code",
   "execution_count": 3,
   "id": "666ae89c-bd54-476b-8730-e6cef0f5fe3b",
   "metadata": {},
   "outputs": [
    {
     "name": "stdout",
     "output_type": "stream",
     "text": [
      "In lines of code, they strive to write,  \n",
      "Yet bugs appear, both day and night.  \n",
      "With nimble hands and weary eyes,  \n",
      "Each fix they seek, yet new ones rise.  \n",
      "\n",
      "A semicolon out of place,  \n",
      "A loop that runs without a trace,  \n",
      "Functions call with faulty flow,  \n",
      "In tangled webs mistakes do grow.  \n",
      "\n",
      "Yet still they type with hopeful zest,  \n",
      "Through trials faced, they do their best.  \n",
      "For every bug that plagues their way,  \n",
      "A lesson learned to guide each day.  \n",
      "\n",
      "In digital realms where errors roam,  \n",
      "Developers find their humble home.  \n"
     ]
    }
   ],
   "source": [
    "from agents import Agent, Runner\n",
    "\n",
    "agent = Agent(name=\"Assistant\", instructions=\"You are a helpful assistant\")\n",
    "\n",
    "result = await Runner.run(agent, \"Write a short poem about developers introducting bugs to the code all the time they work.\")\n",
    "print(result.final_output)"
   ]
  },
  {
   "cell_type": "code",
   "execution_count": null,
   "id": "7b9ccc52-d81d-442e-a4b0-5b9082c86160",
   "metadata": {},
   "outputs": [],
   "source": []
  }
 ],
 "metadata": {
  "kernelspec": {
   "display_name": "Python 3 (ipykernel)",
   "language": "python",
   "name": "python3"
  },
  "language_info": {
   "codemirror_mode": {
    "name": "ipython",
    "version": 3
   },
   "file_extension": ".py",
   "mimetype": "text/x-python",
   "name": "python",
   "nbconvert_exporter": "python",
   "pygments_lexer": "ipython3",
   "version": "3.13.3"
  }
 },
 "nbformat": 4,
 "nbformat_minor": 5
}
