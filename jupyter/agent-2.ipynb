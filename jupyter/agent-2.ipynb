{
 "cells": [
  {
   "cell_type": "code",
   "execution_count": null,
   "id": "f3231b91-aed8-45db-8772-9b23dfee795e",
   "metadata": {},
   "outputs": [],
   "source": [
    "pip install \"openai>=1.76.0\" \"pydantic>=2.10,<3\" \"griffe>=1.5.6,<2\" \"typing-extensions>=4.12.2,<5\" \"requests>=2.0,<3\" \"types-requests>=2.0,<3\" \"beautifulsoup4\" \"reportlab\" \"mcp>=1.6.0,<2; python_version >= '3.10'\""
   ]
  },
  {
   "cell_type": "code",
   "execution_count": null,
   "id": "8b61aeee-909c-450a-8f02-7d365086798d",
   "metadata": {},
   "outputs": [],
   "source": [
    "pip install openai-agents"
   ]
  },
  {
   "cell_type": "code",
   "execution_count": 5,
   "id": "79688aaa-699c-46a1-8dba-ae53c3c9b66a",
   "metadata": {},
   "outputs": [],
   "source": [
    "import asyncio\n",
    "\n",
    "from agents import Agent, Runner, function_tool"
   ]
  },
  {
   "cell_type": "code",
   "execution_count": 6,
   "id": "ac0bc207-b89d-49f8-ab8f-f54ee1f1d915",
   "metadata": {},
   "outputs": [],
   "source": [
    "@function_tool\n",
    "def get_weather(city: str) -> str:\n",
    "    return f\"The weather in {city} is sunny.\""
   ]
  },
  {
   "cell_type": "code",
   "execution_count": 7,
   "id": "95963e71-96ab-44d7-bd0c-aa733f26f122",
   "metadata": {},
   "outputs": [],
   "source": [
    "agent = Agent(\n",
    "    name=\"Weather agent\",\n",
    "    instructions=\"You are a helpful agent that can check the weather.\",\n",
    "    tools=[get_weather],\n",
    ")"
   ]
  },
  {
   "cell_type": "code",
   "execution_count": 8,
   "id": "9dcb0cd1-896d-4b3e-ba5c-742a8fc4f151",
   "metadata": {},
   "outputs": [
    {
     "name": "stdout",
     "output_type": "stream",
     "text": [
      "The weather in Warsaw is sunny.\n"
     ]
    }
   ],
   "source": [
    "result = await Runner.run(agent, input=\"What's the weather in Warsaw?\")\n",
    "print(result.final_output)"
   ]
  },
  {
   "cell_type": "code",
   "execution_count": null,
   "id": "8c650d03-293d-43a4-885d-d33af9cd45e0",
   "metadata": {},
   "outputs": [],
   "source": []
  }
 ],
 "metadata": {
  "kernelspec": {
   "display_name": "Python 3 (ipykernel)",
   "language": "python",
   "name": "python3"
  },
  "language_info": {
   "codemirror_mode": {
    "name": "ipython",
    "version": 3
   },
   "file_extension": ".py",
   "mimetype": "text/x-python",
   "name": "python",
   "nbconvert_exporter": "python",
   "pygments_lexer": "ipython3",
   "version": "3.13.3"
  }
 },
 "nbformat": 4,
 "nbformat_minor": 5
}
